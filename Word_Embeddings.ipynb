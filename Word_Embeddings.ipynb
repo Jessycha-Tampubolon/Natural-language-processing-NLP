{
 "cells": [
  {
   "cell_type": "markdown",
   "metadata": {},
   "source": [
    "# Latihan 1 | Term Frequency"
   ]
  },
  {
   "cell_type": "code",
   "execution_count": 7,
   "metadata": {},
   "outputs": [],
   "source": [
    "from sklearn.feature_extraction.text import CountVectorizer\n",
    "\n",
    "vectorizer = CountVectorizer()\n",
    "corpus = [\n",
    "            'The greatest glory in living lies not in never falling, but in rising every time we fall.',\n",
    "            'The way to get started is to quit talking and begin doing.',\n",
    "            'If life were predictable it would cease to be life, and be without flavor.',\n",
    "            'Life is what happens when you are busy making other plans.',\n",
    "]\n",
    "\n",
    "X = vectorizer.fit_transform(corpus)"
   ]
  },
  {
   "cell_type": "code",
   "execution_count": 5,
   "metadata": {},
   "outputs": [
    {
     "name": "stdout",
     "output_type": "stream",
     "text": [
      "['and', 'are', 'be', 'begin', 'busy', 'but', 'cease', 'doing', 'every', 'fall', 'falling', 'flavor', 'get', 'glory', 'greatest', 'happens', 'if', 'in', 'is', 'it', 'lies', 'life', 'living', 'making', 'never', 'not', 'other', 'plans', 'predictable', 'quit', 'rising', 'started', 'talking', 'the', 'time', 'to', 'way', 'we', 'were', 'what', 'when', 'without', 'would', 'you']\n"
     ]
    }
   ],
   "source": [
    "print(vectorizer.get_feature_names())"
   ]
  },
  {
   "cell_type": "code",
   "execution_count": 6,
   "metadata": {},
   "outputs": [
    {
     "data": {
      "text/plain": [
       "array([[0, 0, 0, 0, 0, 0, 0, 0, 0, 0, 0, 0, 0, 2, 0, 0, 0, 0, 0, 0, 0, 0,\n",
       "        0, 0, 0, 0, 0, 0, 0, 0, 0, 0, 0, 1, 0, 0, 0, 0, 0, 0, 0, 0, 0, 1]],\n",
       "      dtype=int64)"
      ]
     },
     "execution_count": 6,
     "metadata": {},
     "output_type": "execute_result"
    }
   ],
   "source": [
    "X.toarray()\n",
    "\n",
    "vectorizer.transform(['The glory glory you.']).toarray()"
   ]
  },
  {
   "cell_type": "markdown",
   "metadata": {},
   "source": [
    "# Latihan 2 | Term Frequency – Inverse Document Frequency"
   ]
  },
  {
   "cell_type": "code",
   "execution_count": 3,
   "metadata": {},
   "outputs": [
    {
     "data": {
      "text/plain": [
       "array([[0.        , 0.        , 0.        , 0.        , 0.        ,\n",
       "        0.21080243, 0.        , 0.        , 0.21080243, 0.21080243,\n",
       "        0.21080243, 0.        , 0.        , 0.21080243, 0.21080243,\n",
       "        0.        , 0.        , 0.63240729, 0.        , 0.        ,\n",
       "        0.21080243, 0.        , 0.21080243, 0.        , 0.21080243,\n",
       "        0.21080243, 0.        , 0.        , 0.        , 0.        ,\n",
       "        0.21080243, 0.        , 0.        , 0.14957063, 0.21080243,\n",
       "        0.        , 0.        , 0.21080243, 0.        , 0.        ,\n",
       "        0.        , 0.        , 0.        , 0.        ],\n",
       "       [0.21871556, 0.        , 0.        , 0.30825419, 0.        ,\n",
       "        0.        , 0.        , 0.30825419, 0.        , 0.        ,\n",
       "        0.        , 0.        , 0.30825419, 0.        , 0.        ,\n",
       "        0.        , 0.        , 0.        , 0.21871556, 0.        ,\n",
       "        0.        , 0.        , 0.        , 0.        , 0.        ,\n",
       "        0.        , 0.        , 0.        , 0.        , 0.30825419,\n",
       "        0.        , 0.30825419, 0.30825419, 0.21871556, 0.        ,\n",
       "        0.43743112, 0.30825419, 0.        , 0.        , 0.        ,\n",
       "        0.        , 0.        , 0.        , 0.        ],\n",
       "       [0.18307419, 0.        , 0.51604362, 0.        , 0.        ,\n",
       "        0.        , 0.25802181, 0.        , 0.        , 0.        ,\n",
       "        0.        , 0.25802181, 0.        , 0.        , 0.        ,\n",
       "        0.        , 0.25802181, 0.        , 0.        , 0.25802181,\n",
       "        0.        , 0.36614837, 0.        , 0.        , 0.        ,\n",
       "        0.        , 0.        , 0.        , 0.25802181, 0.        ,\n",
       "        0.        , 0.        , 0.        , 0.        , 0.        ,\n",
       "        0.18307419, 0.        , 0.        , 0.25802181, 0.        ,\n",
       "        0.        , 0.25802181, 0.25802181, 0.        ],\n",
       "       [0.        , 0.31611927, 0.        , 0.        , 0.31611927,\n",
       "        0.        , 0.        , 0.        , 0.        , 0.        ,\n",
       "        0.        , 0.        , 0.        , 0.        , 0.        ,\n",
       "        0.31611927, 0.        , 0.        , 0.22429607, 0.        ,\n",
       "        0.        , 0.22429607, 0.        , 0.31611927, 0.        ,\n",
       "        0.        , 0.31611927, 0.31611927, 0.        , 0.        ,\n",
       "        0.        , 0.        , 0.        , 0.        , 0.        ,\n",
       "        0.        , 0.        , 0.        , 0.        , 0.31611927,\n",
       "        0.31611927, 0.        , 0.        , 0.31611927]])"
      ]
     },
     "execution_count": 3,
     "metadata": {},
     "output_type": "execute_result"
    }
   ],
   "source": [
    "from sklearn.feature_extraction.text import TfidfTransformer\n",
    "\n",
    "transformer = TfidfTransformer(smooth_idf=False)\n",
    "\n",
    "tfidf = transformer.fit_transform(X)\n",
    "\n",
    "tfidf.toarray()"
   ]
  },
  {
   "cell_type": "markdown",
   "metadata": {},
   "source": [
    "# Latihan 3 | Word2Vec"
   ]
  },
  {
   "cell_type": "code",
   "execution_count": 8,
   "metadata": {},
   "outputs": [],
   "source": [
    "from nltk.tokenize import sent_tokenize, word_tokenize\n",
    "import warnings\n",
    "\n",
    "warnings.filterwarnings(action = 'ignore')\n",
    "\n",
    "import gensim\n",
    "from gensim.models import Word2Vec\n",
    "\n",
    "sample = open(\"./alice_in_wonderland.txt\", \"r\")\n",
    "s = sample.read()\n",
    "\n",
    "f = s.replace(\"\\n\", \" \")\n",
    "\n",
    "data = []\n",
    "\n",
    "for i in sent_tokenize(f):\n",
    "    temp = []\n",
    "    \n",
    "    for j in word_tokenize(i):\n",
    "        temp.append(j.lower())\n",
    "        \n",
    "    data.append(temp)\n",
    "    \n",
    "model1 = gensim.models.Word2Vec(data, min_count = 1, size = 100, window = 5)"
   ]
  },
  {
   "cell_type": "code",
   "execution_count": 9,
   "metadata": {},
   "outputs": [
    {
     "name": "stdout",
     "output_type": "stream",
     "text": [
      "Consin similarity between 'alice' and 'wonderland' - CBOW :  0.9981234\n",
      "Cosine similarity between 'alice' and 'machines' - CBOW :  0.98486423\n"
     ]
    }
   ],
   "source": [
    "print(\"Consin similarity between 'alice' \" + \"and 'wonderland' - CBOW : \",\n",
    "    model1.similarity('alice', 'wonderland'))\n",
    "\n",
    "print(\"Cosine similarity between 'alice' \" + \"and 'machines' - CBOW : \",\n",
    "     model1.similarity('alice', 'machines'))"
   ]
  },
  {
   "cell_type": "code",
   "execution_count": 10,
   "metadata": {},
   "outputs": [
    {
     "name": "stdout",
     "output_type": "stream",
     "text": [
      "Consin similarity between 'alice' and 'wonderland' - Skip Gram :  0.93657476\n",
      "Cosine similarity between 'alice' and 'machines' - Skip Gram :  0.91462934\n"
     ]
    }
   ],
   "source": [
    "model2 = gensim.models.Word2Vec(data, min_count = 1, size = 100, window = 5, sg = 1)\n",
    "\n",
    "print(\"Consin similarity between 'alice' \" + \"and 'wonderland' - Skip Gram : \",\n",
    "    model2.similarity('alice', 'wonderland'))\n",
    "\n",
    "print(\"Cosine similarity between 'alice' \" + \"and 'machines' - Skip Gram : \",\n",
    "     model2.similarity('alice', 'machines'))"
   ]
  },
  {
   "cell_type": "markdown",
   "metadata": {},
   "source": [
    "# Latihan 4 | Plot Word Vectors Using PCA"
   ]
  },
  {
   "cell_type": "code",
   "execution_count": 11,
   "metadata": {},
   "outputs": [
    {
     "data": {
      "image/png": "[encoded data removed]",
      "text/plain": [
       "<Figure size 432x288 with 1 Axes>"
      ]
     },
     "metadata": {},
     "output_type": "display_data"
    }
   ],
   "source": [
    "from sklearn.decomposition import PCA\n",
    "from matplotlib import pyplot\n",
    "\n",
    "%matplotlib inline\n",
    "\n",
    "X = model1[model1.wv.vocab]\n",
    "pca = PCA(n_components=2)\n",
    "result = pca.fit_transform(X)\n",
    "\n",
    "pyplot.scatter(result[:, 0], result[:, 1])\n",
    "words = list(model1.wv.vocab)\n",
    "for i, word in enumerate(words):\n",
    "    pyplot.annotate(word, xy=(result[i, 0], result[i, 1]))\n",
    "    \n",
    "pyplot.show()"
   ]
  },
  {
   "cell_type": "code",
   "execution_count": 12,
   "metadata": {},
   "outputs": [
    {
     "data": {
      "image/png": "[encoded data removed]",
      "text/plain": [
       "<Figure size 432x288 with 1 Axes>"
      ]
     },
     "metadata": {},
     "output_type": "display_data"
    }
   ],
   "source": [
    "X = model2[model2.wv.vocab]\n",
    "pca = PCA(n_components=2)\n",
    "result = pca.fit_transform(X)\n",
    "\n",
    "pyplot.scatter(result[:, 0], result[:, 1])\n",
    "words = list(model2.wv.vocab)\n",
    "for i, word in enumerate(words):\n",
    "    pyplot.annotate(word, xy=(result[i, 0], result[i, 1]))\n",
    "    \n",
    "pyplot.show()"
   ]
  }
 ],
 "metadata": {
  "kernelspec": {
   "display_name": "Python 3",
   "language": "python",
   "name": "python3"
  },
  "language_info": {
   "codemirror_mode": {
    "name": "ipython",
    "version": 3
   },
   "file_extension": ".py",
   "mimetype": "text/x-python",
   "name": "python",
   "nbconvert_exporter": "python",
   "pygments_lexer": "ipython3",
   "version": "3.6.5"
  }
 },
 "nbformat": 4,
 "nbformat_minor": 2
}
